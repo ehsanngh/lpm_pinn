version https://git-lfs.github.com/spec/v1
oid sha256:d59bb277667e647c55f2ff15dd934f164b57a1710252c52a14274f696c1eaeaa
size 521303
